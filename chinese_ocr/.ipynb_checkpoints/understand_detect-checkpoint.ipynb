{
 "cells": [
  {
   "cell_type": "code",
   "execution_count": 1,
   "metadata": {},
   "outputs": [
    {
     "name": "stderr",
     "output_type": "stream",
     "text": [
      "Using TensorFlow backend.\n"
     ]
    },
    {
     "name": "stdout",
     "output_type": "stream",
     "text": [
      "loading ocr model from /media/chenhao/study/code/work/github/chinese_ocr/chinese_ocr/models/densenet_base_model/1...............\n",
      "INFO:tensorflow:Restoring parameters from b'/media/chenhao/study/code/work/github/chinese_ocr/chinese_ocr/models/densenet_base_model/1/variables/variables'\n",
      "Nms engine gpu_nms: <built-in function gpu_nms> ,cython_nms: None ,python_nms: <function nms at 0x7f0d4a695ea0>\n",
      "Text detect engine:keras\n"
     ]
    }
   ],
   "source": [
    "import time\n",
    "\n",
    "from PIL import Image\n",
    "import cv2\n",
    "import numpy as np\n",
    "\n",
    "import model\n",
    "from utils.image import union_rbox, adjust_box_to_origin\n",
    "from utils.image import get_boxes, letterbox_image\n",
    "from global_obj import ocr_predict\n",
    "from config.config import IMGSIZE\n",
    "from utils import visualize\n"
   ]
  },
  {
   "cell_type": "markdown",
   "metadata": {},
   "source": [
    "# 1 test on an image"
   ]
  },
  {
   "cell_type": "code",
   "execution_count": 5,
   "metadata": {},
   "outputs": [],
   "source": [
    "detectAngle = True\n",
    "path = \"test_images/shi.png\"\n",
    "\n",
    "img = cv2.imread(path)  ##GBR\n",
    "H, W = img.shape[:2]\n",
    "timeTake = time.time()\n"
   ]
  },
  {
   "cell_type": "code",
   "execution_count": 14,
   "metadata": {},
   "outputs": [
    {
     "name": "stdout",
     "output_type": "stream",
     "text": [
      "text detect complete, it took 4.687s\n",
      "[{'cx': 78.5, 'cy': 13.5, 'text': '|1.《千年的愿望》', 'w': 155.05, 'h': 23.0, 'degree': 0.0}, {'cx': 32.75, 'cy': 70.25, 'text': '总希望', 'w': 65.57721759772025, 'h': 23.510864433221343, 'degree': 0.8052535989639354}, {'cx': 94.75, 'cy': 128.0, 'text': '二十岁的那个月夜', 'w': 161.14999999999998, 'h': 24.0104121494643, 'degree': -0.06638731531194668}, {'cx': 42.5, 'cy': 184.5, 'text': '能再回来', 'w': 86.05, 'h': 23.0, 'degree': 0.0}, {'cx': 85.0, 'cy': 243.0, 'text': '再重新活那么一次', 'w': 175.3, 'h': 24.0, 'degree': 0.0}, {'cx': 23.0, 'cy': 300.5, 'text': '然而', 'w': 44.55670631985086, 'h': 24.020824298928574, 'degree': -1.663921062330226}, {'cx': 32.5, 'cy': 357.5, 'text': '商时风', 'w': 65.05, 'h': 23.0, 'degree': 0.0}, {'cx': 32.75, 'cy': 415.0, 'text': '唐时雨', 'w': 65.57947154465685, 'h': 23.010864433221286, 'degree': -0.823569106588903}, {'cx': 42.75, 'cy': 473.5, 'text': '多少枝花', 'w': 86.57837423311449, 'h': 24.010412149464287, 'degree': -0.6524109307870573}, {'cx': 85.0, 'cy': 530.25, 'text': '多少个闲情的少女', 'w': 168.7008928477311, 'h': 23.5, 'degree': -0.36349282343671985}, {'cx': 115.0, 'cy': 588.0, 'text': '想她们在玉阶上转回以后', 'w': 238.3, 'h': 24.0, 'degree': 0.0}, {'cx': 102.25, 'cy': 645.0, 'text': '也只能枉然地剪下玫瑰', 'w': 211.5373435255704, 'h': 23.010864433221286, 'degree': 0.8437489635904356}, {'cx': 42.5, 'cy': 703.0, 'text': '插入瓶中', 'w': 86.05, 'h': 24.0, 'degree': 0.0}] 0\n",
      "[{'text': '|1.《千年的愿望》', 'cx': 78.5, 'cy': 13.5, 'w': 155.05, 'h': 23.0, 'degree': 0.0}, {'text': '总希望', 'cx': 32.75, 'cy': 70.25, 'w': 65.57721759772025, 'h': 23.510864433221347, 'degree': 0.8052535989639396}, {'text': '二十岁的那个月夜', 'cx': 94.75, 'cy': 128.0, 'w': 161.15, 'h': 24.010412149464294, 'degree': -0.06638731531194593}, {'text': '能再回来', 'cx': 42.5, 'cy': 184.5, 'w': 86.05000000000001, 'h': 23.0, 'degree': 3.2841453741284767e-15}, {'text': '再重新活那么一次', 'cx': 85.0, 'cy': 243.0, 'w': 175.3, 'h': 24.0, 'degree': 0.0}, {'text': '然而', 'cx': 23.0, 'cy': 300.5, 'w': 44.55670631985086, 'h': 24.02082429892859, 'degree': -1.6639210623302045}, {'text': '商时风', 'cx': 32.5, 'cy': 357.5, 'w': 65.05000000000001, 'h': 23.0, 'degree': 5.47318354533983e-15}, {'text': '唐时雨', 'cx': 32.75, 'cy': 415.0, 'w': 65.57947154465685, 'h': 23.010864433221325, 'degree': -0.8235691065889122}, {'text': '多少枝花', 'cx': 42.75, 'cy': 473.5, 'w': 86.57837423311449, 'h': 24.01041214946426, 'degree': -0.6524109307870586}, {'text': '多少个闲情的少女', 'cx': 85.0, 'cy': 530.25, 'w': 168.7008928477311, 'h': 23.499999999999922, 'degree': -0.3634928234367317}, {'text': '想她们在玉阶上转回以后', 'cx': 115.0, 'cy': 588.0, 'w': 238.3, 'h': 24.0, 'degree': 0.0}, {'text': '也只能枉然地剪下玫瑰', 'cx': 102.25, 'cy': 645.0, 'w': 211.53734352557044, 'h': 23.010864433221233, 'degree': 0.8437489635904399}, {'text': '插入瓶中', 'cx': 42.5, 'cy': 703.0, 'w': 86.05000000000001, 'h': 24.0, 'degree': 3.264804123567002e-15}] 0\n"
     ]
    }
   ],
   "source": [
    "\n",
    "# 多行识别  multi line\n",
    "_, result, angle = model.model(img,\n",
    "                               detectAngle=detectAngle,  ##是否进行文字方向检测，通过web传参控制\n",
    "                               config=dict(MAX_HORIZONTAL_GAP=50,  ##字符之间的最大间隔，用于文本行的合并\n",
    "                                           MIN_V_OVERLAPS=0.6,\n",
    "                                           MIN_SIZE_SIM=0.6,\n",
    "                                           TEXT_PROPOSALS_MIN_SCORE=0.1,\n",
    "                                           TEXT_PROPOSALS_NMS_THRESH=0.3,\n",
    "                                           TEXT_LINE_NMS_THRESH=0.7,  ##文本行之间测iou值\n",
    "                                           ),\n",
    "                               leftAdjust=True,  ##对检测的文本行进行向左延伸\n",
    "                               rightAdjust=True,  ##对检测的文本行进行向右延伸\n",
    "                               alph=0.1,  ##对检测的文本行进行向右、左延伸的倍数\n",
    "                               )\n",
    "\n",
    "print(result, angle)\n",
    "result = union_rbox(result, 0.2)\n",
    "print(result, angle)\n",
    "\n",
    "\n"
   ]
  },
  {
   "cell_type": "code",
   "execution_count": 15,
   "metadata": {},
   "outputs": [
    {
     "name": "stdout",
     "output_type": "stream",
     "text": [
      "result str: \n",
      "\n",
      "|1.《千年的愿望》\n",
      "总希望\n",
      "二十岁的那个月夜\n",
      "能再回来\n",
      "再重新活那么一次\n",
      "然而\n",
      "商时风\n",
      "唐时雨\n",
      "多少枝花\n",
      "多少个闲情的少女\n",
      "想她们在玉阶上转回以后\n",
      "也只能枉然地剪下玫瑰\n",
      "插入瓶中\n",
      "done\n"
     ]
    }
   ],
   "source": [
    "print(\"result str: \\n\", )\n",
    "for x in result:\n",
    "    print(x['text'])\n",
    "\n",
    "print(\"done\")"
   ]
  },
  {
   "cell_type": "code",
   "execution_count": 16,
   "metadata": {},
   "outputs": [
    {
     "data": {
      "text/plain": [
       "[{'name': '0',\n",
       "  'text': '|1.《千年的愿望》',\n",
       "  'box': (0.9749999999999943,\n",
       "   2.0,\n",
       "   156.025,\n",
       "   2.0,\n",
       "   156.025,\n",
       "   25.0,\n",
       "   0.9749999999999943,\n",
       "   25.0)},\n",
       " {'name': '1',\n",
       "  'text': '总希望',\n",
       "  'box': (0.12983866295490998,\n",
       "   58.03492210793708,\n",
       "   65.7005798269483,\n",
       "   58.956535401750116,\n",
       "   65.37016133704509,\n",
       "   82.46507789206292,\n",
       "   -0.20057982694829946,\n",
       "   81.54346459824988)},\n",
       " {'name': '2',\n",
       "  'text': '二十岁的那个月夜',\n",
       "  'box': (14.161143931436612,\n",
       "   116.08816238117896,\n",
       "   175.31103575685773,\n",
       "   115.90144158673945,\n",
       "   175.33885606856336,\n",
       "   139.91183761882104,\n",
       "   14.188964243142266,\n",
       "   140.09855841326055)},\n",
       " {'name': '3',\n",
       "  'text': '能再回来',\n",
       "  'box': (-0.5250000000000057,\n",
       "   173.0,\n",
       "   85.525,\n",
       "   173.0,\n",
       "   85.525,\n",
       "   196.0,\n",
       "   -0.5250000000000057,\n",
       "   196.0)},\n",
       " {'name': '4',\n",
       "  'text': '再重新活那么一次',\n",
       "  'box': (-2.6500000000000057,\n",
       "   231.0,\n",
       "   172.65,\n",
       "   231.0,\n",
       "   172.65,\n",
       "   255.0,\n",
       "   -2.6500000000000057,\n",
       "   255.0)},\n",
       " {'name': '5',\n",
       "  'text': '然而',\n",
       "  'box': (0.3822965055365408,\n",
       "   289.1415446404498,\n",
       "   44.920215163543446,\n",
       "   287.8477596172726,\n",
       "   45.617703494463456,\n",
       "   311.8584553595502,\n",
       "   1.0797848364565503,\n",
       "   313.1522403827274)},\n",
       " {'name': '6',\n",
       "  'text': '商时风',\n",
       "  'box': (-0.025000000000005684,\n",
       "   346.0,\n",
       "   65.025,\n",
       "   346.0,\n",
       "   65.025,\n",
       "   369.0,\n",
       "   -0.025000000000005684,\n",
       "   369.0)},\n",
       " {'name': '7',\n",
       "  'text': '唐时雨',\n",
       "  'box': (-0.20172176165830535,\n",
       "   403.9670595282857,\n",
       "   65.37097515786503,\n",
       "   403.0244531540272,\n",
       "   65.7017217616583,\n",
       "   426.0329404717143,\n",
       "   0.12902484213496734,\n",
       "   426.9755468459728)},\n",
       " {'name': '8',\n",
       "  'text': '多少枝花',\n",
       "  'box': (-0.6730777178246825,\n",
       "   461.98848334836595,\n",
       "   85.89968381398039,\n",
       "   461.0026610487428,\n",
       "   86.17307771782468,\n",
       "   485.01151665163405,\n",
       "   -0.39968381398038844,\n",
       "   485.9973389512572)},\n",
       " {'name': '9',\n",
       "  'text': '多少个闲情的少女',\n",
       "  'box': (0.5767078248507858,\n",
       "   519.035364463577,\n",
       "   169.27420573068662,\n",
       "   517.9651084511373,\n",
       "   169.42329217514921,\n",
       "   541.464635536423,\n",
       "   0.7257942693133828,\n",
       "   542.5348915488627)},\n",
       " {'name': '10',\n",
       "  'text': '想她们在玉阶上转回以后',\n",
       "  'box': (-4.150000000000006,\n",
       "   576.0,\n",
       "   234.15,\n",
       "   576.0,\n",
       "   234.15,\n",
       "   600.0,\n",
       "   -4.150000000000006,\n",
       "   600.0)},\n",
       " {'name': '11',\n",
       "  'text': '也只能枉然地剪下玫瑰',\n",
       "  'box': (-3.337778282697627,\n",
       "   631.9383012483556,\n",
       "   208.1766285688713,\n",
       "   635.0533293516272,\n",
       "   207.83777828269763,\n",
       "   658.0616987516444,\n",
       "   -3.6766285688713083,\n",
       "   654.9466706483728)},\n",
       " {'name': '12',\n",
       "  'text': '插入瓶中',\n",
       "  'box': (-0.5250000000000057,\n",
       "   691.0,\n",
       "   85.525,\n",
       "   691.0,\n",
       "   85.525,\n",
       "   715.0,\n",
       "   -0.5250000000000057,\n",
       "   715.0)}]"
      ]
     },
     "execution_count": 16,
     "metadata": {},
     "output_type": "execute_result"
    }
   ],
   "source": [
    "res = [{'text': x['text'],\n",
    "            'name': str(i),\n",
    "            'box': {'cx': x['cx'],\n",
    "                    'cy': x['cy'],\n",
    "                    'w': x['w'],\n",
    "                    'h': x['h'],\n",
    "                    'angle': x['degree']\n",
    "    \n",
    "                    }\n",
    "            } for i, x in enumerate(result)]\n",
    "res = adjust_box_to_origin(img, angle, res)  ##修正box\n",
    "res"
   ]
  },
  {
   "cell_type": "markdown",
   "metadata": {},
   "source": [
    "## show box"
   ]
  },
  {
   "cell_type": "code",
   "execution_count": 17,
   "metadata": {},
   "outputs": [],
   "source": []
  },
  {
   "cell_type": "code",
   "execution_count": 18,
   "metadata": {},
   "outputs": [
    {
     "data": {
      "text/plain": [
       "(13, 4, 2)"
      ]
     },
     "execution_count": 18,
     "metadata": {},
     "output_type": "execute_result"
    }
   ],
   "source": [
    "# resize the box to (m,n,2)\n",
    "boxes=[]\n",
    "for d in res:\n",
    "    x1 = d['box'][0]\n",
    "    y1 = d['box'][1]\n",
    "    x2 = d['box'][2]\n",
    "    y2 = d['box'][3]\n",
    "    x3 = d['box'][4]\n",
    "    y3 = d['box'][5]\n",
    "    x4 = d['box'][6]\n",
    "    y4 = d['box'][7]\n",
    "    xy = [[x1,y1],\n",
    "          [x2,y2],\n",
    "          [x3,y3],\n",
    "          [x4,y4]]\n",
    "    boxes.append(xy)\n",
    "\n",
    "d_boxes = np.array(boxes)\n",
    "d_boxes.shape"
   ]
  },
  {
   "cell_type": "code",
   "execution_count": 19,
   "metadata": {},
   "outputs": [
    {
     "data": {
      "image/png": "[encoded data removed]",
      "text/plain": [
       "<Figure size 864x864 with 1 Axes>"
      ]
     },
     "metadata": {
      "needs_background": "light"
     },
     "output_type": "display_data"
    }
   ],
   "source": [
    "visualize.drow_polygon(img,boxes=d_boxes,title='result')"
   ]
  },
  {
   "cell_type": "code",
   "execution_count": null,
   "metadata": {},
   "outputs": [],
   "source": []
  }
 ],
 "metadata": {
  "kernelspec": {
   "display_name": "Python 3",
   "language": "python",
   "name": "python3"
  },
  "language_info": {
   "codemirror_mode": {
    "name": "ipython",
    "version": 3
   },
   "file_extension": ".py",
   "mimetype": "text/x-python",
   "name": "python",
   "nbconvert_exporter": "python",
   "pygments_lexer": "ipython3",
   "version": "3.6.6"
  }
 },
 "nbformat": 4,
 "nbformat_minor": 1
}
